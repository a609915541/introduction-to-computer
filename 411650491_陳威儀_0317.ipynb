{
  "nbformat": 4,
  "nbformat_minor": 0,
  "metadata": {
    "colab": {
      "provenance": [],
      "authorship_tag": "ABX9TyPkbaneBcTUnBoRWz8nPYfv",
      "include_colab_link": true
    },
    "kernelspec": {
      "name": "python3",
      "display_name": "Python 3"
    },
    "language_info": {
      "name": "python"
    }
  },
  "cells": [
    {
      "cell_type": "markdown",
      "metadata": {
        "id": "view-in-github",
        "colab_type": "text"
      },
      "source": [
        "<a href=\"https://colab.research.google.com/github/a609915541/introduction-to-computer/blob/main/411650491_%E9%99%B3%E5%A8%81%E5%84%80_0317.ipynb\" target=\"_parent\"><img src=\"https://colab.research.google.com/assets/colab-badge.svg\" alt=\"Open In Colab\"/></a>"
      ]
    },
    {
      "cell_type": "code",
      "execution_count": null,
      "metadata": {
        "id": "fYH68sb6fdgE"
      },
      "outputs": [],
      "source": [
        "deposit = int(input('請輸入本金存款金額:'))\n",
        "times = 1.05 ** 12\n",
        "deposit *= times\n",
        "print('12年後存款為:{}元'.fornat(deposit))"
      ]
    },
    {
      "cell_type": "code",
      "source": [
        "km = int(input('請輸入公里數(整數:'))\n",
        "money=100+(km-2)*40\n",
        "print('總車資費為:xd 元'% money)"
      ],
      "metadata": {
        "id": "KZP0tTrDhdMc"
      },
      "execution_count": null,
      "outputs": []
    },
    {
      "cell_type": "code",
      "source": [],
      "metadata": {
        "id": "l7EbdgT1g80l"
      },
      "execution_count": null,
      "outputs": []
    }
  ]
}