{
  "nbformat": 4,
  "nbformat_minor": 0,
  "metadata": {
    "colab": {
      "provenance": [],
      "authorship_tag": "ABX9TyMtNXHdxC8VihAZiAGDxJIg",
      "include_colab_link": true
    },
    "kernelspec": {
      "name": "python3",
      "display_name": "Python 3"
    },
    "language_info": {
      "name": "python"
    }
  },
  "cells": [
    {
      "cell_type": "markdown",
      "metadata": {
        "id": "view-in-github",
        "colab_type": "text"
      },
      "source": [
        "<a href=\"https://colab.research.google.com/github/a609915541/introduction-to-computer/blob/main/0310.ipynb\" target=\"_parent\"><img src=\"https://colab.research.google.com/assets/colab-badge.svg\" alt=\"Open In Colab\"/></a>"
      ]
    },
    {
      "cell_type": "code",
      "execution_count": null,
      "metadata": {
        "id": "Ah5tdK5-NCOt"
      },
      "outputs": [],
      "source": [
        "\n",
        "#提示使用者輸入國文成績，並轉成int整數型態來方便運算\n",
        "chi = int (input(\"請輸入國文成績:\"))\n",
        "#提示使用者輸入英文成績，並轉成int整數型態來方便運算\n",
        "eng = int (input(\"請輸入英文成績:\"))\n",
        "#計算總分(int+int)\n",
        "total = chi + eng\n",
        "#使用格式化輸出分數\n",
        "print('您的總分為%3d' % total)"
      ]
    },
    {
      "cell_type": "code",
      "source": [
        " \n",
        "\n",
        "#提示使用者輸入身高，單位為公分(cm)，並轉成int整數型態來方便運算\n",
        "height_cm=int(input(\"請輸入您的身高(cm):\"))\n",
        "#提示使用者輸入體重，單位為公斤(kg)，並轉成int整數型態來方便運算\n",
        "weight=int(input(\"請輸入您的體重(kg):\"))\n",
        "#將使用者輸入的身高單位公分(cm)，轉成公尺(m)\n",
        "height_m=height_cm/100\n",
        "#套入BMI公式\n",
        "BMI=weight/height_m**2\n",
        "#使用格式化印出小數點後2位\n",
        "print(\"BMI為: %3.2f\" % BMI)"
      ],
      "metadata": {
        "id": "z3RI6BbjN19Y"
      },
      "execution_count": null,
      "outputs": []
    }
  ]
}